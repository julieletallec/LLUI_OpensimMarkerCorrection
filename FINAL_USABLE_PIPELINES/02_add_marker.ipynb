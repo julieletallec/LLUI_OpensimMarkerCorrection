{
 "cells": [
  {
   "cell_type": "code",
   "execution_count": 1,
   "metadata": {},
   "outputs": [],
   "source": [
    "import warnings\n",
    "warnings.filterwarnings(\"ignore\")\n",
    "from utils.io_utils import *\n",
    "from utils.opensim_kinematics_utils import *\n",
    "from utils.data_processing_utils import *\n",
    "from utils.analysis_utils import *"
   ]
  },
  {
   "cell_type": "code",
   "execution_count": 2,
   "metadata": {},
   "outputs": [],
   "source": [
    "# define variables\n",
    "\n",
    "MODEL = \"gait2354_simbody.osim\"\n",
    "MARKERSET_FILE = \"example_markerset_files/HMB2_MODEL_LUCILLE_markers.xml\" # in this file the missing marker should NOT be defined\n",
    "# list of the names of the markers in MARKERSET_FILE\n",
    "MARKERS = [\"C7\", \"T10\", \"STRN\", \"LASI\", \"RASI\", \"LPSI\", \"RPSI\",\n",
    "               \"LTHI\", \"LKNE\", \"LMEK\", \"LANK\", \"LMM\", \"LHEE\", \"LTOE\", \"LMT2\", \"LMT5\",\n",
    "\t\t\t   \"RTHI\", \"RKNE\", \"RMEK\", \"RANK\", \"RMM\", \"RHEE\", \"RTOE\", \"RMT2\", \"RMT5\",\n",
    "               \"RStatic1\", \"RStatic2\", \"RStatic3\", \"RStatic4\", \"RStatic5\", \"RStatic6\", \"RStatic7\",\n",
    "               \"Rrear1\", \"Rrear2\",\n",
    "               \"LStatic1\", \"LStatic2\", \"LStatic3\", \"LStatic4\", \"LStatic5\",\n",
    "\t\t\t   \"Lrear1\", \"Lrear2\", \"LMIMU\",\n",
    "               \"pelvis1\", \"pelvis2\", \"pelvis3\", \"pelvis4\"\n",
    "               ]\n",
    "C3D_CALIBRATION_FILE = \"example_c3d_files/GCAP_S_03_TPose.c3d\"\n",
    "TEMPLATE_SCALING_SETUP_FILE = \"template_scaling_setup.xml\"\n",
    "\n",
    "RESULTS_FOLDER = \"results_add_marker\"\n",
    "\n",
    "# MISSING MARKER\n",
    "C3D_FILE_TO_ADD_MARKER = \"example_c3d_files/GCAP_S_03_TPose.c3d\" # in this case the marker is missing in the calibration file but could be any other file\n",
    "NAME = \"RStatic8\"\n",
    "COORDINATES = (0.0412685, -0.0218856, 0.0594629) # coordinates of the missing marker in the referential of the corresponding body part (has to be determined manually in OpenSim)\n",
    "BODY_PART = \"toes_r\"\n",
    "UPDATED_MARKERSET = os.path.join(RESULTS_FOLDER, f\"HBM2_MODEL_markers_Lucille_updated.xml\") # define path where the updated markerset .xml file will be saved\n",
    "\n",
    "\n",
    "PREFIX = \"add_marker\" # needed for naming conventions"
   ]
  },
  {
   "cell_type": "code",
   "execution_count": 3,
   "metadata": {},
   "outputs": [],
   "source": [
    "os.makedirs(RESULTS_FOLDER, exist_ok=True)  "
   ]
  },
  {
   "cell_type": "code",
   "execution_count": 4,
   "metadata": {},
   "outputs": [
    {
     "name": "stdout",
     "output_type": "stream",
     "text": [
      "1900\n",
      "0 100\n",
      "✅ Conversion terminée : results_add_marker\\add_marker_calib_static.trc\n",
      "1900\n",
      "0 1900\n",
      "✅ Conversion terminée : results_add_marker\\add_marker_GCAP_S_03_TPose.trc\n",
      "1 marker(s) added and saved to 'results_add_marker\\HBM2_MODEL_markers_Lucille_updated.xml' with proper formatting.\n",
      "TRC file saved: results_add_marker\\updated_markerset_add_marker_GCAP_S_03_TPose.trc\n",
      "🔄 Ajout des données de force depuis : example_c3d_files/GCAP_S_03_TPose.c3d\n",
      "💾 Écriture du fichier C3D : results_add_marker\\updated_markerset_add_marker_GCAP_S_03_TPose.c3d\n",
      "✅ Fichier C3D sauvegardé : results_add_marker\\updated_markerset_add_marker_GCAP_S_03_TPose.c3d\n"
     ]
    }
   ],
   "source": [
    "# STEP 1: SCALE MODEL WITH CALIBRATION FILE, BASED ON ALL MARKERS EXCEPT THE MISSING ONE\n",
    "scaling(PREFIX,\n",
    "        RESULTS_FOLDER,\n",
    "        MARKERS,\n",
    "        TEMPLATE_SCALING_SETUP_FILE,\n",
    "        MARKERSET_FILE,\n",
    "        c3d_calib_file = C3D_CALIBRATION_FILE)\n",
    "\n",
    "path_to_scaled_model = os.path.join(RESULTS_FOLDER, PREFIX + \"_scaled_model_markers.osim\")\n",
    "\n",
    "\n",
    "# STEP 2: INVERSE KINEMATICS WITH .c3d FILE THAT NEEDS TO BE UPDATED (BASED ON MARKERSET WITHOUT MISSING MARKER) TO GET CORRESPONDING .mot file\n",
    "# (this mot file gives the kinematics of the model while performing the tasks\n",
    "# and will allow to perform point kineamtics to retrieve the coordinates of the markerset with added missing marker)\n",
    "(start_time, stop_time) = inverse_kinematics(PREFIX,\n",
    "                   \"GCAP_S_03_TPose\",\n",
    "                   MARKERS,\n",
    "                   MARKERSET_FILE,\n",
    "                   path_to_scaled_model,\n",
    "                   RESULTS_FOLDER,\n",
    "                   c3d_dynamic_file=C3D_FILE_TO_ADD_MARKER)\n",
    "\n",
    "path_to_motion_file = os.path.join(RESULTS_FOLDER, PREFIX+\"_GCAP_S_03_TPose_motion.mot\")\n",
    "\n",
    "# STEP 3: UPDATE MARKERSET .xml FILE BY ADDING MISSING MARKER AND ITS COORDINATES TO THE EXISTING MARKERSET FILE\n",
    "add_marker_to_opensim_file(\n",
    "    file_path=MARKERSET_FILE,\n",
    "    marker_name=NAME,\n",
    "    coordinates=COORDINATES,\n",
    "    body_part=BODY_PART,\n",
    "    output_file=UPDATED_MARKERSET)\n",
    "\n",
    "# STEP 4: POINT KINEMATICS WITH UPDATED MARKERSET ON .mot FILE RESULTING FROM THE PREVIOUS INVERSE KINEMATICS STEP\n",
    "point_kinematics (\"updated_markerset_\"+PREFIX,\n",
    "                  \"GCAP_S_03_TPose\",\n",
    "                  UPDATED_MARKERSET,\n",
    "                  RESULTS_FOLDER,\n",
    "                  path_to_scaled_model,\n",
    "                  path_to_motion_file,\n",
    "                  start_time=start_time,\n",
    "                  end_time=stop_time)\n",
    "\n",
    "path_to_updated_trc_file = os.path.join(RESULTS_FOLDER, \"updated_markerset_\"+PREFIX+\"_GCAP_S_03_TPose.trc\")\n",
    "\n",
    "# STEP 5: CONVERT .trc FILE RESULTING FROM PREVIOUS POINTKIN STEP INTO .c3d FILE\n",
    "convert_trc_to_c3d(path_to_updated_trc_file, source_c3d_path=C3D_FILE_TO_ADD_MARKER)"
   ]
  }
 ],
 "metadata": {
  "kernelspec": {
   "display_name": "opensim-env",
   "language": "python",
   "name": "python3"
  },
  "language_info": {
   "codemirror_mode": {
    "name": "ipython",
    "version": 3
   },
   "file_extension": ".py",
   "mimetype": "text/x-python",
   "name": "python",
   "nbconvert_exporter": "python",
   "pygments_lexer": "ipython3",
   "version": "3.8.20"
  }
 },
 "nbformat": 4,
 "nbformat_minor": 2
}
