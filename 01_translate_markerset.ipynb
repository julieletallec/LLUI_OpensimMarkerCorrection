{
 "cells": [
  {
   "cell_type": "code",
   "execution_count": 1,
   "metadata": {},
   "outputs": [],
   "source": [
    "import warnings\n",
    "warnings.filterwarnings(\"ignore\")\n",
    "from utils.io_utils import *\n",
    "from utils.opensim_kinematics_utils import *\n",
    "from utils.data_processing_utils import *\n",
    "from utils.analysis_utils import *"
   ]
  },
  {
   "cell_type": "code",
   "execution_count": 2,
   "metadata": {},
   "outputs": [],
   "source": [
    "# define variables\n",
    "\n",
    "MODEL = \"gait2354_simbody.osim\"\n",
    "ORIGINAL_MARKETSET_FILE = \"example_markerset_files/HMB2_MODEL_markers.xml\"\n",
    "# list of the names of the markers in ORIGINAL_MARKERSET_FILE\n",
    "ORIGINAL_MARKERS = [\n",
    "    \"LASIS\", \"RASIS\", \"LPSIS\", \"RPSIS\", \"LLTHI\", \"LLEK\", \"LMEK\", \"LLSHA\", \"LLM\",\n",
    "    \"LMM\", \"LHEE\", \"LMT2\", \"LMT5\", \"RLTHI\", \"RLEK\", \"RMEK\", \"RLSHA\", \"RLM\", \"RMM\",\n",
    "    \"RHEE\", \"RMT2\", \"RMT5\", \"C7\", \"T10\", \"XIPH\", \"JN\"\n",
    "    ]\n",
    "C3D_CALIBRATION_FILE = \"example_c3d_files/Calibration_Mathieu.c3d\"\n",
    "C3D_DYNAMIC_FILE = \"example_c3d_files/Walk_Mathieu.c3d\"\n",
    "TEMPLATE_SCALING_SETUP_FILE = \"template_scaling_setup.xml\"\n",
    "\n",
    "NEW_MARKERSET_FILE = \"example_markerset_files/HMB2_MODEL_LUCILLE_markers.xml\"\n",
    "# list of the names of the markers in NEW_MARKERSET_FILE\n",
    "NEW_MARKERS = ALL_MARKERS = [\"C7\", \"T10\", \"STRN\", \"LASI\", \"RASI\", \"LPSI\", \"RPSI\",\n",
    "               \"LTHI\", \"LKNE\", \"LMEK\", \"LANK\", \"LMM\", \"LHEE\", \"LTOE\", \"LMT2\", \"LMT5\",\n",
    "\t\t\t   \"RTHI\", \"RKNE\", \"RMEK\", \"RANK\", \"RMM\", \"RHEE\", \"RTOE\", \"RMT2\", \"RMT5\",\n",
    "               \"RStatic1\", \"RStatic2\", \"RStatic3\", \"RStatic4\", \"RStatic5\", \"RStatic6\", \"RStatic7\",\n",
    "               \"Rrear1\", \"Rrear2\",\n",
    "               \"LStatic1\", \"LStatic2\", \"LStatic3\", \"LStatic4\", \"LStatic5\",\n",
    "\t\t\t   \"Lrear1\", \"Lrear2\", \"LMIMU\",\n",
    "               \"pelvis1\", \"pelvis2\", \"pelvis3\", \"pelvis4\"\n",
    "               ]\n",
    "\n",
    "RESULTS_FOLDER = \"results_marker_translation\"\n",
    "PREFIX = \"translation\" # convention for naming of new created files"
   ]
  },
  {
   "cell_type": "code",
   "execution_count": 3,
   "metadata": {},
   "outputs": [],
   "source": [
    "os.makedirs(RESULTS_FOLDER, exist_ok=True)  "
   ]
  },
  {
   "cell_type": "code",
   "execution_count": 4,
   "metadata": {},
   "outputs": [
    {
     "name": "stdout",
     "output_type": "stream",
     "text": [
      "700\n",
      "0 100\n",
      "✅ Conversion terminée : results_marker_translation\\translation_calib_static.trc\n",
      "700\n",
      "0 700\n",
      "✅ Conversion terminée : results_marker_translation\\translation_calib.trc\n",
      "8031\n",
      "0 8031\n",
      "✅ Conversion terminée : results_marker_translation\\translation_walk.trc\n",
      "TRC file saved: results_marker_translation\\new_markerset_translation_calib.trc\n",
      "TRC file saved: results_marker_translation\\new_markerset_translation_walk.trc\n",
      "🔄 Ajout des données de force depuis : example_c3d_files/Calibration_Mathieu.c3d\n",
      "💾 Écriture du fichier C3D : results_marker_translation\\new_markerset_translation_calib.c3d\n",
      "✅ Fichier C3D sauvegardé : results_marker_translation\\new_markerset_translation_calib.c3d\n",
      "🔄 Ajout des données de force depuis : example_c3d_files/Walk_Mathieu.c3d\n",
      "💾 Écriture du fichier C3D : results_marker_translation\\new_markerset_translation_walk.c3d\n",
      "✅ Fichier C3D sauvegardé : results_marker_translation\\new_markerset_translation_walk.c3d\n"
     ]
    }
   ],
   "source": [
    "# STEP 1: SCALE MODEL WITH .c3d CALIBRATION FILE\n",
    "scaling(PREFIX,\n",
    "        RESULTS_FOLDER,\n",
    "        ORIGINAL_MARKERS,\n",
    "        TEMPLATE_SCALING_SETUP_FILE,\n",
    "        ORIGINAL_MARKETSET_FILE,\n",
    "        c3d_calib_file = C3D_CALIBRATION_FILE)\n",
    "\n",
    "path_to_scaled_model = os.path.join(RESULTS_FOLDER, PREFIX + \"_scaled_model_markers.osim\")\n",
    "\n",
    "# STEP 2: INVERSE KINEMATICS WITH .c3d CALIBRATION and DYNAMIC FILE (BASED ON ORIGINAL MARKERSET) TO GET CORRESPONDING .mot file\n",
    "# (this mot file gives the kinematics of the model while performing the calibration and dynamic tasks\n",
    "# and will allow to perform point kineamtics to retrieve the coordinates of the new markerset)\n",
    "(calib_start_time, calib_stop_time) = inverse_kinematics(PREFIX,\n",
    "                   \"calib\",\n",
    "                   ORIGINAL_MARKERS,\n",
    "                   ORIGINAL_MARKETSET_FILE,\n",
    "                   path_to_scaled_model,\n",
    "                   RESULTS_FOLDER,\n",
    "                   c3d_dynamic_file=C3D_CALIBRATION_FILE)\n",
    "\n",
    "(walk_start_time, walk_stop_time) = inverse_kinematics(PREFIX,\n",
    "                   \"walk\",\n",
    "                   ORIGINAL_MARKERS,\n",
    "                   ORIGINAL_MARKETSET_FILE,\n",
    "                   path_to_scaled_model,\n",
    "                   RESULTS_FOLDER,\n",
    "                   c3d_dynamic_file=C3D_DYNAMIC_FILE) # here we do not specify start and stop times so the entire motion is processed\n",
    "\n",
    "path_to_calib_motion_file = os.path.join(RESULTS_FOLDER, PREFIX+\"_calib_motion.mot\")\n",
    "path_to_walk_motion_file = os.path.join(RESULTS_FOLDER, PREFIX+\"_walk_motion.mot\")\n",
    "\n",
    "\n",
    "# STEP 3: POINT KINEMATICS WITH NEW MARKERSET ON BOTH .mot FILE RESULTING FROM THE PREVIOUS INVERSE KINEMATICS STEP\n",
    "point_kinematics (\"new_markerset_\"+PREFIX,\n",
    "                  \"calib\",\n",
    "                  NEW_MARKERSET_FILE,\n",
    "                  RESULTS_FOLDER,\n",
    "                  path_to_scaled_model,\n",
    "                  path_to_calib_motion_file,\n",
    "                  start_time=calib_start_time,\n",
    "                  end_time=calib_stop_time)\n",
    "\n",
    "point_kinematics (\"new_markerset_\"+PREFIX,\n",
    "                  \"walk\",\n",
    "                  NEW_MARKERSET_FILE,\n",
    "                  RESULTS_FOLDER,\n",
    "                  path_to_scaled_model,\n",
    "                  path_to_walk_motion_file,\n",
    "                  start_time=walk_start_time,\n",
    "                  end_time=walk_stop_time)\n",
    "\n",
    "path_to_translated_calib_trc_file = os.path.join(RESULTS_FOLDER, \"new_markerset_\"+PREFIX+\"_calib.trc\")\n",
    "path_to_translated_walk_trc_file = os.path.join(RESULTS_FOLDER, \"new_markerset_\"+PREFIX+\"_walk.trc\")\n",
    "\n",
    "# STEP 4: CONVERT resulting .trc FILE RESULTING FROM PREVIOUS POINTKIN STEP INTO .c3d FILE\n",
    "convert_trc_to_c3d(path_to_translated_calib_trc_file, source_c3d_path=C3D_CALIBRATION_FILE)\n",
    "convert_trc_to_c3d(path_to_translated_walk_trc_file, source_c3d_path=C3D_DYNAMIC_FILE)"
   ]
  }
 ],
 "metadata": {
  "kernelspec": {
   "display_name": "opensim-env",
   "language": "python",
   "name": "python3"
  },
  "language_info": {
   "codemirror_mode": {
    "name": "ipython",
    "version": 3
   },
   "file_extension": ".py",
   "mimetype": "text/x-python",
   "name": "python",
   "nbconvert_exporter": "python",
   "pygments_lexer": "ipython3",
   "version": "3.8.20"
  }
 },
 "nbformat": 4,
 "nbformat_minor": 2
}
